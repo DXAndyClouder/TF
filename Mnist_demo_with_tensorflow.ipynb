{
 "cells": [
  {
   "cell_type": "code",
   "execution_count": 1,
   "metadata": {
    "collapsed": true
   },
   "outputs": [],
   "source": [
    "\"\"\"\n",
    "Created on Sat Nov 3 16:18:12 2018\n",
    "\n",
    "@author: DiXuanA\n",
    "\"\"\"\n",
    "\n",
    "import numpy as np\n",
    "import tensorflow as tf\n",
    "from tensorflow.examples.tutorials.mnist import input_data\n",
    "from PIL import Image\n",
    "import matplotlib.pyplot as plt\n",
    "import random\n",
    "\n",
    "%matplotlib inline"
   ]
  },
  {
   "cell_type": "markdown",
   "metadata": {},
   "source": [
    "## Import mnist dataset"
   ]
  },
  {
   "cell_type": "code",
   "execution_count": 2,
   "metadata": {},
   "outputs": [
    {
     "name": "stdout",
     "output_type": "stream",
     "text": [
      "Extracting /minist_data\\train-images-idx3-ubyte.gz\n",
      "Extracting /minist_data\\train-labels-idx1-ubyte.gz\n",
      "Extracting /minist_data\\t10k-images-idx3-ubyte.gz\n",
      "Extracting /minist_data\\t10k-labels-idx1-ubyte.gz\n"
     ]
    }
   ],
   "source": [
    "mnist = input_data.read_data_sets('/minist_data',one_hot = True)"
   ]
  },
  {
   "cell_type": "markdown",
   "metadata": {},
   "source": [
    "## Show some number images"
   ]
  },
  {
   "cell_type": "code",
   "execution_count": 3,
   "metadata": {},
   "outputs": [
    {
     "name": "stdout",
     "output_type": "stream",
     "text": [
      "This label is:  3\n"
     ]
    },
    {
     "data": {
      "image/png": "[encoded data removed]",
      "text/plain": [
       "<matplotlib.figure.Figure at 0x1fe31f59f98>"
      ]
     },
     "metadata": {},
     "output_type": "display_data"
    }
   ],
   "source": [
    "index = random.choice(range(50000))\n",
    "img_array = mnist.train.images[index].reshape(28,28)*255\n",
    "label = mnist.train.labels[index].argmax()\n",
    "img = Image.fromarray(img_array.astype('float'))\n",
    "print(\"This label is: \",label)\n",
    "plt.imshow(img,cmap = 'binary')\n",
    "plt.show()"
   ]
  },
  {
   "cell_type": "markdown",
   "metadata": {},
   "source": [
    "## set hyper paramentes"
   ]
  },
  {
   "cell_type": "code",
   "execution_count": 4,
   "metadata": {
    "collapsed": true
   },
   "outputs": [],
   "source": [
    "learning_rate = 0.0056\n",
    "iteration = 1500\n",
    "batch_size = 128\n",
    "print_step = 100\n",
    "\n",
    "# setting layer\n",
    "n_hidden_1 = 128\n",
    "n_hidden_2 = 256 \n",
    "n_hidden_3 = 64\n",
    "num_input = 784 # MNIST 28*28\n",
    "num_classes = 10 #0-9\n",
    "\n",
    "\n",
    "X = tf.placeholder(\"float\", [None, num_input])\n",
    "Y = tf.placeholder(\"float\", [None, num_classes])"
   ]
  },
  {
   "cell_type": "markdown",
   "metadata": {},
   "source": [
    "## buiild nn"
   ]
  },
  {
   "cell_type": "code",
   "execution_count": 5,
   "metadata": {
    "collapsed": true
   },
   "outputs": [],
   "source": [
    "# init w,b\n",
    "w = {\n",
    "    'h1': tf.Variable(tf.random_normal([num_input, n_hidden_1])),\n",
    "    'h2': tf.Variable(tf.random_normal([n_hidden_1, n_hidden_2])),\n",
    "    'h3': tf.Variable(tf.random_normal([n_hidden_2, n_hidden_3])),\n",
    "    'out': tf.Variable(tf.random_normal([n_hidden_3, num_classes]))\n",
    "}\n",
    "b = {\n",
    "    'b1': tf.Variable(tf.random_normal([n_hidden_1])),\n",
    "    'b2': tf.Variable(tf.random_normal([n_hidden_2])),\n",
    "    'b3': tf.Variable(tf.random_normal([n_hidden_3])),\n",
    "    'out': tf.Variable(tf.random_normal([num_classes]))\n",
    "}"
   ]
  },
  {
   "cell_type": "code",
   "execution_count": 6,
   "metadata": {
    "collapsed": true
   },
   "outputs": [],
   "source": [
    "def nn(x):\n",
    "    l1 = tf.matmul(x,w['h1'])+b['b1']\n",
    "    l2 = tf.nn.sigmoid(tf.matmul(l1,w['h2'])+b['b2'])\n",
    "    l3 = tf.nn.sigmoid(tf.matmul(l2,w['h3'])+b['b3'])\n",
    "    output = tf.matmul(l3,w['out'])+b['out']\n",
    "    return output"
   ]
  },
  {
   "cell_type": "code",
   "execution_count": 7,
   "metadata": {
    "collapsed": true
   },
   "outputs": [],
   "source": [
    "output = nn(X)\n",
    "\n",
    "# loss function softmax\n",
    "loss = tf.reduce_mean(tf.nn.softmax_cross_entropy_with_logits_v2(logits=output,labels = Y))\n",
    "# optimizer\n",
    "optimizer = tf.train.AdamOptimizer(learning_rate = learning_rate)\n",
    "train = optimizer.minimize(loss)\n",
    "\n",
    "pred = tf.equal(tf.argmax(output,1),tf.argmax(Y,1))\n",
    "accuracy = tf.reduce_mean(tf.cast(pred,tf.float32))\n",
    "\n",
    "init = tf.global_variables_initializer()"
   ]
  },
  {
   "cell_type": "markdown",
   "metadata": {},
   "source": [
    "## training"
   ]
  },
  {
   "cell_type": "code",
   "execution_count": 8,
   "metadata": {},
   "outputs": [
    {
     "name": "stdout",
     "output_type": "stream",
     "text": [
      "steps: 1 loss: 7.7310 accuracy: 0.125\n",
      "steps: 100 loss: 0.7585 accuracy: 0.789\n",
      "steps: 200 loss: 0.6250 accuracy: 0.797\n",
      "steps: 300 loss: 0.5021 accuracy: 0.867\n",
      "steps: 400 loss: 0.4065 accuracy: 0.875\n",
      "steps: 500 loss: 0.5458 accuracy: 0.828\n",
      "steps: 600 loss: 0.5239 accuracy: 0.844\n",
      "steps: 700 loss: 0.3073 accuracy: 0.891\n",
      "steps: 800 loss: 0.4029 accuracy: 0.859\n",
      "steps: 900 loss: 0.3709 accuracy: 0.867\n",
      "steps: 1000 loss: 0.2564 accuracy: 0.898\n",
      "steps: 1100 loss: 0.4579 accuracy: 0.898\n",
      "steps: 1200 loss: 0.3340 accuracy: 0.922\n",
      "steps: 1300 loss: 0.2360 accuracy: 0.938\n",
      "steps: 1400 loss: 0.2744 accuracy: 0.930\n",
      "steps: 1500 loss: 0.3052 accuracy: 0.922\n",
      "Train Finished!\n",
      "Testing Accuracy: 0.9059\n",
      "Saving model with:  0.9059\n"
     ]
    }
   ],
   "source": [
    "saver=tf.train.Saver(max_to_keep=1)\n",
    "max_acc = 0\n",
    "with tf.Session() as sess:\n",
    "    sess.run(init)\n",
    "    for i in range(1,iteration+1):\n",
    "        batch_x , batch_y = mnist.train.next_batch(batch_size)\n",
    "        sess.run(train,feed_dict={X: batch_x,Y: batch_y})\n",
    "\n",
    "        if i % print_step ==0 or i == 1:\n",
    "            los,acc = sess.run([loss, accuracy], feed_dict={X: batch_x,Y: batch_y})\n",
    "            print(\"steps: \"+str(i)+\" loss: \"+\"{:.4f}\".format(los) + \" accuracy: \"+ \"{:.3f}\".format(acc))\n",
    "    print(\"Train Finished!\")\n",
    "    acc = sess.run(accuracy, feed_dict={X: mnist.test.images,\n",
    "                                      Y: mnist.test.labels})\n",
    "    print(\"Testing Accuracy:\", acc)\n",
    "    if acc > max_acc:\n",
    "        max_acc = acc\n",
    "        saver.save(sess,'ckpt/mnist.ckpt')\n",
    "        print(\"Saving model with: \", max_acc)\n",
    "    sess.close()"
   ]
  },
  {
   "cell_type": "markdown",
   "metadata": {},
   "source": [
    "## predict"
   ]
  },
  {
   "cell_type": "code",
   "execution_count": 9,
   "metadata": {},
   "outputs": [
    {
     "name": "stdout",
     "output_type": "stream",
     "text": [
      "INFO:tensorflow:Restoring parameters from ckpt/mnist.ckpt\n"
     ]
    }
   ],
   "source": [
    "sess = tf.Session()\n",
    "saver.restore(sess,'ckpt/mnist.ckpt')"
   ]
  },
  {
   "cell_type": "code",
   "execution_count": 12,
   "metadata": {},
   "outputs": [
    {
     "data": {
      "image/png": "[encoded data removed]",
      "text/plain": [
       "<matplotlib.figure.Figure at 0x1fe32b78ba8>"
      ]
     },
     "metadata": {},
     "output_type": "display_data"
    },
    {
     "name": "stdout",
     "output_type": "stream",
     "text": [
      "This label should be:  7\n"
     ]
    }
   ],
   "source": [
    "index = random.choice(range(mnist.test.images.shape[0]))\n",
    "img_tensor = np.array([mnist.test.images[index]])\n",
    "img_array = mnist.test.images[index].reshape(28,28)*255\n",
    "img = Image.fromarray(img_array.astype('float'))\n",
    "plt.imshow(img,cmap = 'binary')\n",
    "plt.show()\n",
    "res = output.eval(feed_dict={X: img_tensor}, session=sess)\n",
    "print(\"This label should be: \",np.argmax(res))"
   ]
  },
  {
   "cell_type": "code",
   "execution_count": null,
   "metadata": {
    "collapsed": true
   },
   "outputs": [],
   "source": []
  }
 ],
 "metadata": {
  "kernelspec": {
   "display_name": "Python 3",
   "language": "python",
   "name": "python3"
  },
  "language_info": {
   "codemirror_mode": {
    "name": "ipython",
    "version": 3
   },
   "file_extension": ".py",
   "mimetype": "text/x-python",
   "name": "python",
   "nbconvert_exporter": "python",
   "pygments_lexer": "ipython3",
   "version": "3.6.2"
  }
 },
 "nbformat": 4,
 "nbformat_minor": 2
}
